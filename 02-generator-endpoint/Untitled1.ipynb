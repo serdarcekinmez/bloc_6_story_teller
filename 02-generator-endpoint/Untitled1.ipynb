{
 "cells": [
  {
   "cell_type": "code",
   "execution_count": 1,
   "id": "731a1376-887f-4a53-b483-288250ebb046",
   "metadata": {},
   "outputs": [
    {
     "name": "stdout",
     "output_type": "stream",
     "text": [
      "Collecting amazon-codewhisperer-jupyterlab-ext\n",
      "  Downloading amazon-codewhisperer-jupyterlab-ext-1.0.3.tar.gz (120 kB)\n",
      "     ---------------------------------------- 0.0/120.5 kB ? eta -:--:--\n",
      "     -------------------------------------- 120.5/120.5 kB 6.9 MB/s eta 0:00:00\n",
      "  Installing build dependencies: started\n",
      "  Installing build dependencies: finished with status 'done'\n",
      "  Getting requirements to build wheel: started\n",
      "  Getting requirements to build wheel: finished with status 'done'\n",
      "  Preparing metadata (pyproject.toml): started\n",
      "  Preparing metadata (pyproject.toml): finished with status 'done'\n",
      "Requirement already satisfied: boto3 in c:\\users\\serda\\anaconda3\\lib\\site-packages (from amazon-codewhisperer-jupyterlab-ext) (1.24.28)\n",
      "Requirement already satisfied: botocore in c:\\users\\serda\\anaconda3\\lib\\site-packages (from amazon-codewhisperer-jupyterlab-ext) (1.27.59)\n",
      "Requirement already satisfied: jmespath<2.0.0,>=0.7.1 in c:\\users\\serda\\anaconda3\\lib\\site-packages (from boto3->amazon-codewhisperer-jupyterlab-ext) (0.10.0)\n",
      "Requirement already satisfied: s3transfer<0.7.0,>=0.6.0 in c:\\users\\serda\\anaconda3\\lib\\site-packages (from boto3->amazon-codewhisperer-jupyterlab-ext) (0.6.0)\n",
      "Requirement already satisfied: python-dateutil<3.0.0,>=2.1 in c:\\users\\serda\\anaconda3\\lib\\site-packages (from botocore->amazon-codewhisperer-jupyterlab-ext) (2.8.2)\n",
      "Requirement already satisfied: urllib3<1.27,>=1.25.4 in c:\\users\\serda\\anaconda3\\lib\\site-packages (from botocore->amazon-codewhisperer-jupyterlab-ext) (1.26.14)\n",
      "Requirement already satisfied: six>=1.5 in c:\\users\\serda\\anaconda3\\lib\\site-packages (from python-dateutil<3.0.0,>=2.1->botocore->amazon-codewhisperer-jupyterlab-ext) (1.16.0)\n",
      "Building wheels for collected packages: amazon-codewhisperer-jupyterlab-ext\n",
      "  Building wheel for amazon-codewhisperer-jupyterlab-ext (pyproject.toml): started\n",
      "  Building wheel for amazon-codewhisperer-jupyterlab-ext (pyproject.toml): finished with status 'done'\n",
      "  Created wheel for amazon-codewhisperer-jupyterlab-ext: filename=amazon_codewhisperer_jupyterlab_ext-1.0.3-py3-none-any.whl size=105117 sha256=56189648e965d5eab6c718bd5ee34bfee66985bdecc43905b552bcdfa01a7ee8\n",
      "  Stored in directory: c:\\users\\serda\\appdata\\local\\pip\\cache\\wheels\\0c\\4e\\5f\\cc20da1e37ba96fbb0619ce09a3e3b1f412546d7f60f61f23b\n",
      "Successfully built amazon-codewhisperer-jupyterlab-ext\n",
      "Installing collected packages: amazon-codewhisperer-jupyterlab-ext\n",
      "Successfully installed amazon-codewhisperer-jupyterlab-ext-1.0.3\n",
      "Note: you may need to restart the kernel to use updated packages.\n"
     ]
    },
    {
     "name": "stderr",
     "output_type": "stream",
     "text": [
      "WARNING: Ignoring invalid distribution -rotobuf (c:\\users\\serda\\anaconda3\\lib\\site-packages)\n",
      "WARNING: Ignoring invalid distribution -lotly (c:\\users\\serda\\anaconda3\\lib\\site-packages)\n",
      "WARNING: Ignoring invalid distribution - (c:\\users\\serda\\anaconda3\\lib\\site-packages)\n",
      "WARNING: Ignoring invalid distribution -rotobuf (c:\\users\\serda\\anaconda3\\lib\\site-packages)\n",
      "WARNING: Ignoring invalid distribution -lotly (c:\\users\\serda\\anaconda3\\lib\\site-packages)\n",
      "WARNING: Ignoring invalid distribution - (c:\\users\\serda\\anaconda3\\lib\\site-packages)\n",
      "WARNING: Ignoring invalid distribution -rotobuf (c:\\users\\serda\\anaconda3\\lib\\site-packages)\n",
      "WARNING: Ignoring invalid distribution -lotly (c:\\users\\serda\\anaconda3\\lib\\site-packages)\n",
      "WARNING: Ignoring invalid distribution - (c:\\users\\serda\\anaconda3\\lib\\site-packages)\n",
      "WARNING: Ignoring invalid distribution -rotobuf (c:\\users\\serda\\anaconda3\\lib\\site-packages)\n",
      "WARNING: Ignoring invalid distribution -lotly (c:\\users\\serda\\anaconda3\\lib\\site-packages)\n",
      "WARNING: Ignoring invalid distribution - (c:\\users\\serda\\anaconda3\\lib\\site-packages)\n",
      "WARNING: Ignoring invalid distribution -rotobuf (c:\\users\\serda\\anaconda3\\lib\\site-packages)\n",
      "WARNING: Ignoring invalid distribution -lotly (c:\\users\\serda\\anaconda3\\lib\\site-packages)\n",
      "WARNING: Ignoring invalid distribution - (c:\\users\\serda\\anaconda3\\lib\\site-packages)\n",
      "WARNING: Ignoring invalid distribution -rotobuf (c:\\users\\serda\\anaconda3\\lib\\site-packages)\n",
      "WARNING: Ignoring invalid distribution -lotly (c:\\users\\serda\\anaconda3\\lib\\site-packages)\n",
      "WARNING: Ignoring invalid distribution - (c:\\users\\serda\\anaconda3\\lib\\site-packages)\n",
      "WARNING: Ignoring invalid distribution -rotobuf (c:\\users\\serda\\anaconda3\\lib\\site-packages)\n",
      "WARNING: Ignoring invalid distribution -lotly (c:\\users\\serda\\anaconda3\\lib\\site-packages)\n",
      "WARNING: Ignoring invalid distribution - (c:\\users\\serda\\anaconda3\\lib\\site-packages)\n"
     ]
    }
   ],
   "source": [
    "pip install amazon-codewhisperer-jupyterlab-ext\n"
   ]
  },
  {
   "cell_type": "code",
   "execution_count": 2,
   "id": "69c8490f-41e5-474b-92c2-e7487fcec007",
   "metadata": {},
   "outputs": [
    {
     "ename": "SyntaxError",
     "evalue": "invalid syntax (2124902110.py, line 1)",
     "output_type": "error",
     "traceback": [
      "\u001b[1;36m  Cell \u001b[1;32mIn[2], line 1\u001b[1;36m\u001b[0m\n\u001b[1;33m    jupyter server extension enable amazon_codewhisperer_jupyterlab_ext\u001b[0m\n\u001b[1;37m            ^\u001b[0m\n\u001b[1;31mSyntaxError\u001b[0m\u001b[1;31m:\u001b[0m invalid syntax\n"
     ]
    }
   ],
   "source": [
    "jupyter server extension enable amazon_codewhisperer_jupyterlab_ext\n"
   ]
  },
  {
   "cell_type": "code",
   "execution_count": null,
   "id": "aeada0d5-3842-443f-9bc0-7188260fd405",
   "metadata": {},
   "outputs": [],
   "source": []
  }
 ],
 "metadata": {
  "kernelspec": {
   "display_name": "Python 3 (ipykernel)",
   "language": "python",
   "name": "python3"
  },
  "language_info": {
   "codemirror_mode": {
    "name": "ipython",
    "version": 3
   },
   "file_extension": ".py",
   "mimetype": "text/x-python",
   "name": "python",
   "nbconvert_exporter": "python",
   "pygments_lexer": "ipython3",
   "version": "3.9.16"
  }
 },
 "nbformat": 4,
 "nbformat_minor": 5
}
