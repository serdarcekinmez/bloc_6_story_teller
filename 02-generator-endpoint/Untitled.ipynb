{
 "cells": [
  {
   "cell_type": "code",
   "execution_count": 1,
   "id": "c62a8ef0-6d72-46eb-929d-24381918526c",
   "metadata": {},
   "outputs": [
    {
     "name": "stdout",
     "output_type": "stream",
     "text": [
      "There is no file or directory named 'CSerdar014191/opt-350m-HorrorCreepyPasta' in your current working directory.\n"
     ]
    }
   ],
   "source": [
    "import os\n",
    "\n",
    "# Directory or file name you want to check\n",
    "name_to_check = \"CSerdar014191/opt-350m-HorrorCreepyPasta\"\n",
    "\n",
    "# Check if it exists\n",
    "if os.path.exists(name_to_check):\n",
    "    print(f\"There is a file or directory named '{name_to_check}' in your current working directory.\")\n",
    "else:\n",
    "    print(f\"There is no file or directory named '{name_to_check}' in your current working directory.\")\n"
   ]
  },
  {
   "cell_type": "code",
   "execution_count": null,
   "id": "67814c88-c07a-4ffc-9625-08e5d4618e6d",
   "metadata": {},
   "outputs": [],
   "source": [
    "!pip uninstall transformers\n"
   ]
  },
  {
   "cell_type": "code",
   "execution_count": null,
   "id": "53fca590-088f-422e-a8f5-e893ddbd806f",
   "metadata": {},
   "outputs": [],
   "source": [
    "!pip install transformers"
   ]
  }
 ],
 "metadata": {
  "kernelspec": {
   "display_name": "Python 3 (ipykernel)",
   "language": "python",
   "name": "python3"
  },
  "language_info": {
   "codemirror_mode": {
    "name": "ipython",
    "version": 3
   },
   "file_extension": ".py",
   "mimetype": "text/x-python",
   "name": "python",
   "nbconvert_exporter": "python",
   "pygments_lexer": "ipython3",
   "version": "3.9.16"
  }
 },
 "nbformat": 4,
 "nbformat_minor": 5
}
