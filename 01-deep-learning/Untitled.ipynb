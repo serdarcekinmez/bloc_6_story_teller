{
 "cells": [
  {
   "cell_type": "code",
   "execution_count": 1,
   "id": "5ffd2633-da66-413d-aa39-42b958991082",
   "metadata": {},
   "outputs": [
    {
     "name": "stdout",
     "output_type": "stream",
     "text": [
      "There is no file or directory named 'CSerdar014191/opt-350m-HorrorCreepyPasta' in your current working directory.\n"
     ]
    }
   ],
   "source": [
    "import os\n",
    "\n",
    "# Directory or file name you want to check\n",
    "name_to_check = \"CSerdar014191/opt-350m-HorrorCreepyPasta\"\n",
    "\n",
    "# Check if it exists\n",
    "if os.path.exists(name_to_check):\n",
    "    print(f\"There is a file or directory named '{name_to_check}' in your current working directory.\")\n",
    "else:\n",
    "    print(f\"There is no file or directory named '{name_to_check}' in your current working directory.\")\n"
   ]
  },
  {
   "cell_type": "code",
   "execution_count": null,
   "id": "a72a08ac-a3df-43a3-a876-f8a80bb18b61",
   "metadata": {},
   "outputs": [],
   "source": []
  }
 ],
 "metadata": {
  "kernelspec": {
   "display_name": "Python 3 (ipykernel)",
   "language": "python",
   "name": "python3"
  },
  "language_info": {
   "codemirror_mode": {
    "name": "ipython",
    "version": 3
   },
   "file_extension": ".py",
   "mimetype": "text/x-python",
   "name": "python",
   "nbconvert_exporter": "python",
   "pygments_lexer": "ipython3",
   "version": "3.9.16"
  }
 },
 "nbformat": 4,
 "nbformat_minor": 5
}
